{
 "cells": [
  {
   "cell_type": "code",
   "execution_count": 2,
   "metadata": {},
   "outputs": [],
   "source": [
    "import pyautogui as pa\n",
    "import time\n",
    "import pyautogui"
   ]
  },
  {
   "cell_type": "code",
   "execution_count": 25,
   "metadata": {},
   "outputs": [],
   "source": [
    "#Demo1 opening a particular ppt\n",
    "\n",
    "pa.click(1225,45)        #minimize\n",
    "pa.hotkey('winleft','1')\n",
    "pa.click(160,120)\n",
    "time.sleep(1)\n",
    "pa.click(322,128)  #LOKIBOTS\n",
    "time.sleep(1)\n",
    "pa.keyDown('enter')\n",
    "#pa.keyDown('down')\n",
    "pa.click(604,150)\n",
    "time.sleep(1)\n",
    "pa.doubleClick(604,150) \n",
    "time.sleep(1)\n",
    "pa.keyDown('f5')\n",
    "time.sleep(5)\n",
    "pa.keyDown('esc')\n",
    "pa.click(1268,38)       #close"
   ]
  },
  {
   "cell_type": "code",
   "execution_count": 29,
   "metadata": {},
   "outputs": [],
   "source": [
    "#Demo2 To start net session\n",
    "\n",
    "pyautogui.hotkey('ctrlleft','t')\n",
    "pyautogui.click(498,558,duration=0.25)\n",
    "pyautogui.click(623,360,duration=0.25)\n",
    "pyautogui.typewrite('18230')\n",
    "pyautogui.typewrite('\\t')\n",
    "pyautogui.typewrite('password')\n",
    "pyautogui.click(634,483,duration=0.25)"
   ]
  },
  {
   "cell_type": "code",
   "execution_count": 24,
   "metadata": {},
   "outputs": [],
   "source": [
    "#Demo 3\n",
    "\n",
    "pa.click(1225,45)        #minimize\n",
    "pa.hotkey('winleft','1')\n",
    "pa.click(160,120)\n",
    "time.sleep(1)\n",
    "pa.click(317,127)\n",
    "time.sleep(1)\n",
    "pa.keyDown('enter')\n",
    "time.sleep(1)\n",
    "pa.doubleClick(317,127) \n",
    "time.sleep(1)\n",
    "pa.press('down')\n",
    "time.sleep(1)\n",
    "pa.press('enter')\n",
    "time.sleep(1)\n",
    "pa.doubleClick(325,119)\n",
    "time.sleep(1)\n",
    "pa.press('f11')\n",
    "time.sleep(2)\n",
    "pa.press('right')\n",
    "time.sleep(2)\n",
    "pa.press('right')\n",
    "time.sleep(2)\n",
    "pa.press('right')\n",
    "time.sleep(2)\n",
    "pa.press('right')\n",
    "time.sleep(2)\n",
    "pa.press('right')\n",
    "time.sleep(2)\n",
    "pa.hotkey('alt','f4')"
   ]
  },
  {
   "cell_type": "code",
   "execution_count": null,
   "metadata": {},
   "outputs": [],
   "source": []
  }
 ],
 "metadata": {
  "kernelspec": {
   "display_name": "Python 3",
   "language": "python",
   "name": "python3"
  },
  "language_info": {
   "codemirror_mode": {
    "name": "ipython",
    "version": 3
   },
   "file_extension": ".py",
   "mimetype": "text/x-python",
   "name": "python",
   "nbconvert_exporter": "python",
   "pygments_lexer": "ipython3",
   "version": "3.6.7"
  }
 },
 "nbformat": 4,
 "nbformat_minor": 2
}
